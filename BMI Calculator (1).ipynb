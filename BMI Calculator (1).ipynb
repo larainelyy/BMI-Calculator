{
 "cells": [
  {
   "cell_type": "code",
   "execution_count": null,
   "id": "edffbdc5-9c4c-4235-853a-0611a453dae5",
   "metadata": {},
   "outputs": [],
   "source": [
    "#BMI = weight (kg) / height^2 (m)."
   ]
  },
  {
   "cell_type": "code",
   "execution_count": null,
   "id": "2a49ec8e-1e83-4107-89f7-5b8a2f31a6e1",
   "metadata": {},
   "outputs": [],
   "source": [
    "https://healthscreening.sg/bmi-calculator-singapore"
   ]
  },
  {
   "cell_type": "code",
   "execution_count": null,
   "id": "cf0ba5b1-b463-4e97-a31d-f8d7f920f69c",
   "metadata": {},
   "outputs": [],
   "source": []
  },
  {
   "cell_type": "code",
   "execution_count": 9,
   "id": "d65ff1e4-1725-4c63-bb9c-c82c9206f8ac",
   "metadata": {},
   "outputs": [
    {
     "name": "stdout",
     "output_type": "stream",
     "text": [
      "50\n"
     ]
    }
   ],
   "source": [
    "print (Weight)"
   ]
  },
  {
   "cell_type": "code",
   "execution_count": 17,
   "id": "0a61e862-5237-42f7-92a6-9dc9be663bff",
   "metadata": {},
   "outputs": [
    {
     "data": {
      "text/plain": [
       "str"
      ]
     },
     "execution_count": 17,
     "metadata": {},
     "output_type": "execute_result"
    }
   ],
   "source": [
    "type(Weight)\n"
   ]
  },
  {
   "cell_type": "code",
   "execution_count": 19,
   "id": "863cc156-00a1-4316-8dec-e496c498ceea",
   "metadata": {},
   "outputs": [
    {
     "data": {
      "text/plain": [
       "str"
      ]
     },
     "execution_count": 19,
     "metadata": {},
     "output_type": "execute_result"
    }
   ],
   "source": [
    "type(Height)"
   ]
  },
  {
   "cell_type": "code",
   "execution_count": 2,
   "id": "20c3e28d-f4b0-4262-a4d4-edcb66b6dbf1",
   "metadata": {},
   "outputs": [
    {
     "name": "stdin",
     "output_type": "stream",
     "text": [
      "Enter your name:  lara\n",
      "Enter your weight in Kg:  50\n",
      "Enter your height in cm:  150\n"
     ]
    },
    {
     "name": "stdout",
     "output_type": "stream",
     "text": [
      "Your BMI is: 22.22222222222222\n",
      "You are normal weight and have a low risk of nutritional deficiency diseases and osteoporosis\n"
     ]
    }
   ],
   "source": [
    "Name = input (\"Enter your name: \")\n",
    "Weight = int(input(\"Enter your weight in Kg: \"))\n",
    "Height = int(input(\"Enter your height in cm: \"))\n",
    "\n",
    "BMI = (Weight) / ((Height/100) * (Height/100))\n",
    "\n",
    "print (\"Your BMI is:\" ,BMI)\n",
    "\n",
    "if BMI>0:\n",
    "    if BMI<18.5:\n",
    "        print (\"\"\"You are underweight and have a risk of nutritional deficiency diseases and osteoporosis\"\"\")\n",
    "    elif 18.5 <= BMI <= 22.9:\n",
    "        print (\"\"\"You are normal weight and have a low risk of nutritional deficiency diseases and osteoporosis\"\"\")\n",
    "    elif 23.0 <= BMI <= 29.9:\n",
    "        print (\"\"\"You are overweight and have a moderate risk of nutritional deficiency diseases and osteoporosis\"\"\")\n",
    "    elif BMI >= 30:\n",
    "        print (\"\"\"You are obese and have a high risk of nutritional deficiency diseases and osteoporosis\"\"\")\n",
    "else:\n",
    "    print (\"Enter valid input\")"
   ]
  },
  {
   "cell_type": "code",
   "execution_count": null,
   "id": "903ba5e0-e8ad-4bea-9fb2-62e3c9699698",
   "metadata": {},
   "outputs": [],
   "source": []
  },
  {
   "cell_type": "code",
   "execution_count": null,
   "id": "eaf3ab64-6da0-4aa5-9590-3929683f66f4",
   "metadata": {},
   "outputs": [],
   "source": []
  }
 ],
 "metadata": {
  "kernelspec": {
   "display_name": "Python 3 (ipykernel)",
   "language": "python",
   "name": "python3"
  },
  "language_info": {
   "codemirror_mode": {
    "name": "ipython",
    "version": 3
   },
   "file_extension": ".py",
   "mimetype": "text/x-python",
   "name": "python",
   "nbconvert_exporter": "python",
   "pygments_lexer": "ipython3",
   "version": "3.12.4"
  }
 },
 "nbformat": 4,
 "nbformat_minor": 5
}
